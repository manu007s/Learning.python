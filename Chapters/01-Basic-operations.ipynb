{
 "cells": [
  {
   "cell_type": "markdown",
   "metadata": {},
   "source": [
    "# Learning.python - 01\n",
    "\n",
    "## Basic operations\n",
    "\n",
    "Visit [Learning.python](github.com/vhbelvadi/Learning.python) for more.\n",
    "\n",
    "### Introduction\n",
    "\n",
    "Type here."
   ]
  },
  {
   "cell_type": "code",
   "execution_count": 1,
   "metadata": {},
   "outputs": [
    {
     "name": "stdout",
     "output_type": "stream",
     "text": [
      "[1, 1, 2, 3, 5, 8, 13, 21, 34, 55, 89]\n"
     ]
    }
   ],
   "source": [
    "def fib2(n):\n",
    "    result = []    \n",
    "    a,b=0,1\n",
    "    while b<n:\n",
    "       # print (result)\n",
    "        result.append(b)\n",
    "        a,b=b,a+b\n",
    "    return result\n",
    "\n",
    "f100=fib2(100) \n",
    "print (f100)"
   ]
  },
  {
   "cell_type": "markdown",
   "metadata": {},
   "source": [
    "The above program blah blah blah."
   ]
  }
 ],
 "metadata": {
  "kernelspec": {
   "display_name": "Python 3",
   "language": "python",
   "name": "python3"
  },
  "language_info": {
   "codemirror_mode": {
    "name": "ipython",
    "version": 3
   },
   "file_extension": ".py",
   "mimetype": "text/x-python",
   "name": "python",
   "nbconvert_exporter": "python",
   "pygments_lexer": "ipython3",
   "version": "3.7.0"
  }
 },
 "nbformat": 4,
 "nbformat_minor": 2
}

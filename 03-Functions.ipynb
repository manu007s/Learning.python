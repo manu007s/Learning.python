{
 "cells": [
  {
   "cell_type": "markdown",
   "metadata": {},
   "source": [
    "# Learning.python – 03\n",
    "\n",
    "## Functions\n",
    "\n",
    "Visit [Learning.python](https://github.com/vhbelvadi/Learning.python) on github for more.\n",
    "\n",
    "### Introduction\n",
    "\n",
    "A function is a predefined chunk of code within a program that is often meant to be reused. Here's an example: if we wanted to write a program that checks if a number is even or odd we could write something like this:"
   ]
  },
  {
   "cell_type": "code",
   "execution_count": 2,
   "metadata": {},
   "outputs": [
    {
     "name": "stdout",
     "output_type": "stream",
     "text": [
      "Please enter a number: 7\n",
      "7 is odd.\n"
     ]
    }
   ],
   "source": [
    "# Program to check if a number is even or odd\n",
    "number = int(input('Please enter a number: '))\n",
    "if number % 2 == 0:\n",
    "    print(number,'is even.')\n",
    "else:\n",
    "    print(number,'is odd.')"
   ]
  },
  {
   "cell_type": "markdown",
   "metadata": {},
   "source": [
    "This is simple enough. A user can run the program and enter a number and our program will tell them if that number is even or odd. Now what if they want to check another number? They would have to re-run the program. We can make their life easier by simply writing the core logic of our program as a function that they can call as often as they want. Here's the same program as above but now with a function called `check()` that can be run as many times as the user wants."
   ]
  },
  {
   "cell_type": "code",
   "execution_count": 3,
   "metadata": {},
   "outputs": [
    {
     "name": "stdout",
     "output_type": "stream",
     "text": [
      "Please enter a number: 7\n",
      "7 is odd.\n",
      "Try again? Y/N: y\n",
      "Please enter a number: 24\n",
      "24 is even.\n",
      "Try again? Y/N: y\n",
      "Please enter a number: 99\n",
      "99 is odd.\n",
      "Try again? Y/N: n\n",
      "Thanks for dropping by.\n"
     ]
    }
   ],
   "source": [
    "# Program to check if a number is even or odd\n",
    "#\n",
    "# This is our check() function\n",
    "#\n",
    "def check(number):\n",
    "    if number % 2 == 0:\n",
    "        print(number,'is even.')\n",
    "    else:\n",
    "        print(number,'is odd.')\n",
    "#\n",
    "# And now the main part of the program\n",
    "#\n",
    "repeat = 1\n",
    "rerun = 'y'\n",
    "while repeat > 0:\n",
    "    if rerun in ('y','Y'):\n",
    "        number = int(input('Please enter a number: '))\n",
    "        check(number)\n",
    "        rerun = input('Try again? Y/N: ')\n",
    "    else:\n",
    "        print('Thanks for dropping by.')\n",
    "        repeat = 0"
   ]
  },
  {
   "cell_type": "markdown",
   "metadata": {},
   "source": [
    "With the above program the user can just hit **y** or **Y** on their keyboard to keep retrying the program as many times as they want or quit by hitting anything except **y** or **Y**."
   ]
  }
 ],
 "metadata": {
  "kernelspec": {
   "display_name": "Python 3",
   "language": "python",
   "name": "python3"
  },
  "language_info": {
   "codemirror_mode": {
    "name": "ipython",
    "version": 3
   },
   "file_extension": ".py",
   "mimetype": "text/x-python",
   "name": "python",
   "nbconvert_exporter": "python",
   "pygments_lexer": "ipython3",
   "version": "3.7.0"
  }
 },
 "nbformat": 4,
 "nbformat_minor": 2
}
